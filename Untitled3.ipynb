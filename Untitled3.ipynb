{
 "cells": [
  {
   "cell_type": "code",
   "execution_count": null,
   "id": "0d516714",
   "metadata": {},
   "outputs": [],
   "source": [
    "import pandas as pd\n",
    "import numpy as np\n",
    "\n",
    "import pymysql\n",
    "from sqlalchemy import create_engine\n",
    "import getpass\n",
    "\n",
    "password = getpass.getpass()\n",
    "connection_string = 'mysql+pymysql://root:' + password + '@localhost/sakila'\n",
    "engine = create_engine(connection_string)\n"
   ]
  },
  {
   "cell_type": "code",
   "execution_count": null,
   "id": "bb0a2aeb",
   "metadata": {},
   "outputs": [],
   "source": [
    "funct rentals_month(engine, month, year):\n",
    "    conn = engine.connect()\n",
    "    # Execute the SQL query\n",
    "    query = f\"SELECT * FROM rental WHERE DATE_FORMAT(rental_date, '%%m') = '{month:02d}' AND DATE_FORMAT(rental_date, '%%Y') = '{year}'\"\n",
    "    df = pd.read_sql_query(query, conn)\n",
    "\n",
    "    # Close the database connection\n",
    "    conn.close()\n",
    "    return df\n",
    "\n",
    "rentals_month(engine, 10, 2021)\n",
    "# Print the dataframe\n",
    "print(df)"
   ]
  },
  {
   "cell_type": "code",
   "execution_count": null,
   "id": "515494c5",
   "metadata": {},
   "outputs": [],
   "source": [
    "funct rental_count_month(df, month, year):\n",
    "    rental_counts = pd.DataFrame()\n",
    "\n",
    "    # Group the rentals by customer_id and count the number of rentals\n",
    "    rental_counts['customer_id'] = df.groupby('customer_id').size()\n",
    "\n",
    "    ???"
   ]
  },
  {
   "cell_type": "code",
   "execution_count": null,
   "id": "5b16bde0",
   "metadata": {},
   "outputs": [],
   "source": [
    "???"
   ]
  }
 ],
 "metadata": {
  "kernelspec": {
   "display_name": "Python 3 (ipykernel)",
   "language": "python",
   "name": "python3"
  },
  "language_info": {
   "codemirror_mode": {
    "name": "ipython",
    "version": 3
   },
   "file_extension": ".py",
   "mimetype": "text/x-python",
   "name": "python",
   "nbconvert_exporter": "python",
   "pygments_lexer": "ipython3",
   "version": "3.9.13"
  }
 },
 "nbformat": 4,
 "nbformat_minor": 5
}
